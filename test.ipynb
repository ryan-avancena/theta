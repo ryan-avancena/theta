{
 "cells": [
  {
   "cell_type": "code",
   "execution_count": 34,
   "metadata": {},
   "outputs": [],
   "source": [
    "import pandas as pd\n",
    "from datetime import timedelta"
   ]
  },
  {
   "cell_type": "code",
   "execution_count": 35,
   "metadata": {},
   "outputs": [],
   "source": [
    "YEARS = [2016,2017,2018,2019,2020,2021,2022]\n",
    "\n",
    "def create_peak_hours():\n",
    "    all_peak_hours = []\n",
    "    for year in YEARS:\n",
    "        file_path = f'./data/peak-hours/{year}-peak-hours.xlsx'\n",
    "        try:\n",
    "            df = pd.read_excel(file_path, sheet_name=f'{year} Peak Hour Report')\n",
    "            df['YEAR'] = year  # Use the trusted file-based year\n",
    "            all_peak_hours.append(df)\n",
    "        except FileNotFoundError:\n",
    "            print(f\"File not found for year {year}, skipping...\")\n",
    "\n",
    "    peak_hours_df = pd.concat(all_peak_hours, ignore_index=True)\n",
    "\n",
    "    # Only map day and month (keep trusted YEAR column)\n",
    "    day_mapping = {\n",
    "        'MON': 0, 'TUE': 1, 'WED': 2, \n",
    "        'THU': 3, 'FRI': 4, 'SAT': 5, 'SUN': 6\n",
    "    }\n",
    "\n",
    "    month_mapping = {\n",
    "        'JAN': 1, 'FEB': 2, 'MAR': 3, \n",
    "        'APR': 4, 'MAY': 5, 'JUN': 6, 'JUL': 7,\n",
    "        'AUG': 8, 'SEP': 9, 'OCT': 10, 'NOV': 11, 'DEC': 12\n",
    "    }\n",
    "\n",
    "    peak_hours_df['AM_DAY'] = peak_hours_df['AM_DAY'].replace(day_mapping)   \n",
    "    peak_hours_df['AM_MONTH'] = peak_hours_df['AM_MONTH'].replace(month_mapping)\n",
    "\n",
    "    return peak_hours_df\n"
   ]
  },
  {
   "cell_type": "code",
   "execution_count": 36,
   "metadata": {},
   "outputs": [],
   "source": [
    "def add_am_datetime(peak_hours_df):\n",
    "    # Filter out rows with invalid months just in case\n",
    "    peak_hours_df = peak_hours_df[peak_hours_df['AM_MONTH'].between(1, 12)]\n",
    "\n",
    "    # Sort so dates are in logical order\n",
    "    peak_hours_df = peak_hours_df.sort_values(['YEAR', 'AM_MONTH', 'AM_HOUR']).reset_index(drop=True)\n",
    "\n",
    "    # Create a dummy start date: use the first valid year and month\n",
    "    start_date = pd.Timestamp(f\"{peak_hours_df.loc[0, 'YEAR']}-{peak_hours_df.loc[0, 'AM_MONTH']:02d}-01\")\n",
    "\n",
    "    # Create artificial daily dates for the length of the dataframe\n",
    "    peak_hours_df['AM_DATE'] = pd.date_range(start=start_date, periods=len(peak_hours_df), freq='D')\n",
    "\n",
    "    # Add hour as a timedelta\n",
    "    peak_hours_df['AM_DATETIME'] = peak_hours_df['AM_DATE'] + pd.to_timedelta(peak_hours_df['AM_HOUR'], unit='h')\n",
    "\n",
    "    return peak_hours_df\n"
   ]
  },
  {
   "cell_type": "code",
   "execution_count": 40,
   "metadata": {},
   "outputs": [
    {
     "name": "stdout",
     "output_type": "stream",
     "text": [
      "File not found for year 2017, skipping...\n",
      "File not found for year 2018, skipping...\n",
      "      YEAR  AM_MONTH  AM_HOUR         AM_DATETIME\n",
      "0     2016         1        5 2016-01-01 05:00:00\n",
      "1     2016         1        5 2016-01-02 05:00:00\n",
      "2     2016         1        5 2016-01-03 05:00:00\n",
      "3     2016         1        6 2016-01-04 06:00:00\n",
      "4     2016         1        6 2016-01-05 06:00:00\n",
      "...    ...       ...      ...                 ...\n",
      "6794  2022        12       12 2034-08-08 12:00:00\n",
      "6795  2022        12       12 2034-08-09 12:00:00\n",
      "6796  2022        12       12 2034-08-10 12:00:00\n",
      "6797  2022        12       12 2034-08-11 12:00:00\n",
      "6798  2022        12       12 2034-08-12 12:00:00\n",
      "\n",
      "[6799 rows x 4 columns]\n"
     ]
    },
    {
     "name": "stderr",
     "output_type": "stream",
     "text": [
      "/var/folders/y0/tql4kxn91m51l1_d96hty_z40000gn/T/ipykernel_8793/2408790939.py:28: FutureWarning: Downcasting behavior in `replace` is deprecated and will be removed in a future version. To retain the old behavior, explicitly call `result.infer_objects(copy=False)`. To opt-in to the future behavior, set `pd.set_option('future.no_silent_downcasting', True)`\n",
      "  peak_hours_df['AM_DAY'] = peak_hours_df['AM_DAY'].replace(day_mapping)\n",
      "/var/folders/y0/tql4kxn91m51l1_d96hty_z40000gn/T/ipykernel_8793/2408790939.py:29: FutureWarning: Downcasting behavior in `replace` is deprecated and will be removed in a future version. To retain the old behavior, explicitly call `result.infer_objects(copy=False)`. To opt-in to the future behavior, set `pd.set_option('future.no_silent_downcasting', True)`\n",
      "  peak_hours_df['AM_MONTH'] = peak_hours_df['AM_MONTH'].replace(month_mapping)\n"
     ]
    }
   ],
   "source": [
    "df = create_peak_hours()\n",
    "df = add_am_datetime(df)\n",
    "\n",
    "print(df[['YEAR', 'AM_MONTH', 'AM_HOUR', 'AM_DATETIME']])\n"
   ]
  },
  {
   "cell_type": "code",
   "execution_count": 38,
   "metadata": {},
   "outputs": [],
   "source": [
    "peak_hours_df = peak_hours_df.sort_values(['YEAR', 'AM_MONTH', 'AM_HOUR']).reset_index(drop=True)\n",
    "\n",
    "# Step 3: Build date range from a known start\n",
    "# Let's assume each row is one day, starting from the earliest date\n",
    "start_date = pd.Timestamp(f\"{peak_hours_df.loc[0, 'YEAR']}-{peak_hours_df.loc[0, 'AM_MONTH']:02d}-01\")\n",
    "\n",
    "# Step 4: Build a real date column (optional – assumes each row is a day apart)\n",
    "peak_hours_df['AM_DATE'] = pd.date_range(start=start_date, periods=len(peak_hours_df), freq='D')\n",
    "\n",
    "# Step 5: Add the AM_HOUR as time\n",
    "peak_hours_df['AM_DATETIME'] = peak_hours_df['AM_DATE'] + pd.to_timedelta(peak_hours_df['AM_HOUR'], unit='h')"
   ]
  },
  {
   "cell_type": "code",
   "execution_count": 39,
   "metadata": {},
   "outputs": [
    {
     "data": {
      "text/plain": [
       "0      2014-01-01 07:00:00\n",
       "1      2014-01-02 07:00:00\n",
       "2      2014-01-03 07:00:00\n",
       "3      2014-01-04 07:00:00\n",
       "4      2014-01-05 08:00:00\n",
       "               ...        \n",
       "6794   2032-08-08 12:00:00\n",
       "6795   2032-08-09 12:00:00\n",
       "6796   2032-08-10 12:00:00\n",
       "6797   2032-08-11 12:00:00\n",
       "6798   2032-08-12 12:00:00\n",
       "Name: AM_DATETIME, Length: 6799, dtype: datetime64[ns]"
      ]
     },
     "execution_count": 39,
     "metadata": {},
     "output_type": "execute_result"
    }
   ],
   "source": [
    "peak_hours_df['AM_DATETIME']"
   ]
  }
 ],
 "metadata": {
  "kernelspec": {
   "display_name": "venv",
   "language": "python",
   "name": "python3"
  },
  "language_info": {
   "codemirror_mode": {
    "name": "ipython",
    "version": 3
   },
   "file_extension": ".py",
   "mimetype": "text/x-python",
   "name": "python",
   "nbconvert_exporter": "python",
   "pygments_lexer": "ipython3",
   "version": "3.11.9"
  }
 },
 "nbformat": 4,
 "nbformat_minor": 2
}
